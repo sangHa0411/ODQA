{
 "cells": [
  {
   "cell_type": "code",
   "execution_count": 1,
   "source": [
    "import os\n",
    "import json\n",
    "import re\n",
    "import pandas as pd\n",
    "from tqdm.notebook import tqdm\n",
    "import collections"
   ],
   "outputs": [],
   "metadata": {}
  },
  {
   "cell_type": "markdown",
   "source": [
    "## Tokenizer"
   ],
   "metadata": {}
  },
  {
   "cell_type": "code",
   "execution_count": 2,
   "source": [
    "from transformers import BertTokenizer, BertTokenizerFast, AutoTokenizer"
   ],
   "outputs": [],
   "metadata": {}
  },
  {
   "cell_type": "code",
   "execution_count": 3,
   "source": [
    "tokenizer = AutoTokenizer.from_pretrained(\n",
    "    'klue/bert-base',\n",
    "    use_fast=True,\n",
    ")"
   ],
   "outputs": [
    {
     "output_type": "stream",
     "name": "stderr",
     "text": [
      "/opt/conda/lib/python3.8/site-packages/transformers/configuration_utils.py:336: UserWarning: Passing `gradient_checkpointing` to a config initialization is deprecated and will be removed in v5 Transformers. Using `model.gradient_checkpointing_enable()` instead, or if you are using the `Trainer` API, pass `gradient_checkpointing=True` in your `TrainingArguments`.\n",
      "  warnings.warn(\n"
     ]
    }
   ],
   "metadata": {}
  },
  {
   "cell_type": "code",
   "execution_count": 4,
   "source": [
    "tokenizer"
   ],
   "outputs": [
    {
     "output_type": "execute_result",
     "data": {
      "text/plain": [
       "PreTrainedTokenizerFast(name_or_path='klue/bert-base', vocab_size=32000, model_max_len=512, is_fast=True, padding_side='right', special_tokens={'unk_token': '[UNK]', 'sep_token': '[SEP]', 'pad_token': '[PAD]', 'cls_token': '[CLS]', 'mask_token': '[MASK]'})"
      ]
     },
     "metadata": {},
     "execution_count": 4
    }
   ],
   "metadata": {}
  },
  {
   "cell_type": "code",
   "execution_count": 5,
   "source": [
    "len(tokenizer)"
   ],
   "outputs": [
    {
     "output_type": "execute_result",
     "data": {
      "text/plain": [
       "32000"
      ]
     },
     "metadata": {},
     "execution_count": 5
    }
   ],
   "metadata": {}
  },
  {
   "cell_type": "code",
   "execution_count": 6,
   "source": [
    "!rm -rf ../Tokenizer/*.txt ../Tokenizer/*.json\n",
    "tokenizer.save_pretrained('../Tokenizer')"
   ],
   "outputs": [
    {
     "output_type": "execute_result",
     "data": {
      "text/plain": [
       "('../Tokenizer/tokenizer_config.json',\n",
       " '../Tokenizer/special_tokens_map.json',\n",
       " '../Tokenizer/vocab.txt',\n",
       " '../Tokenizer/added_tokens.json',\n",
       " '../Tokenizer/tokenizer.json')"
      ]
     },
     "metadata": {},
     "execution_count": 6
    }
   ],
   "metadata": {}
  },
  {
   "cell_type": "markdown",
   "source": [
    "## Customize vocab.txt "
   ],
   "metadata": {}
  },
  {
   "cell_type": "code",
   "execution_count": 7,
   "source": [
    "def load_vocab(file_path) :\n",
    "    assert file_path.endswith('.txt')\n",
    "    vocab_map = {}\n",
    "    idx = 0\n",
    "\n",
    "    f = open(file_path, 'r')\n",
    "    while True:\n",
    "        line = f.readline()\n",
    "        if not line: \n",
    "            break\n",
    "        vocab = line[:-1]\n",
    "        vocab_map[idx] = vocab\n",
    "        idx += 1\n",
    "\n",
    "    f.close()\n",
    "    return vocab_map\n"
   ],
   "outputs": [],
   "metadata": {}
  },
  {
   "cell_type": "code",
   "execution_count": 8,
   "source": [
    "vocab_path = os.path.join('../Tokenizer', 'vocab.txt')\n",
    "vocab_map = load_vocab(vocab_path)"
   ],
   "outputs": [],
   "metadata": {}
  },
  {
   "cell_type": "code",
   "execution_count": 9,
   "source": [
    "print(vocab_map[31500])\n",
    "print(vocab_map[31999])"
   ],
   "outputs": [
    {
     "output_type": "stream",
     "name": "stdout",
     "text": [
      "[unused0]\n",
      "[unused499]\n"
     ]
    }
   ],
   "metadata": {}
  },
  {
   "cell_type": "code",
   "execution_count": 10,
   "source": [
    "def add_unused(vocab_map, tokenizer, unk_token_path) :\n",
    "    assert unk_token_path.endswith('.csv')\n",
    "    vocab_size = len(tokenizer)\n",
    "    unused_start = tokenizer.convert_tokens_to_ids('[unused0]')\n",
    "\n",
    "    unk_ch_df = pd.read_csv(unk_token_path)\n",
    "    unused_size = vocab_size - unused_start \n",
    "    for i in range(unused_size) :\n",
    "        unused_idx = unused_start + i\n",
    "        data = unk_ch_df.iloc[i]\n",
    "        unk_ch = data['Character']\n",
    "        vocab_map[unused_idx] = unk_ch\n"
   ],
   "outputs": [],
   "metadata": {}
  },
  {
   "cell_type": "code",
   "execution_count": 11,
   "source": [
    "unk_vocab_path = os.path.join('../Tokenizer', 'unk_characters.csv')\n",
    "add_unused(vocab_map, tokenizer, unk_vocab_path)"
   ],
   "outputs": [],
   "metadata": {}
  },
  {
   "cell_type": "code",
   "execution_count": 12,
   "source": [
    "print(vocab_map[31500])\n",
    "print(vocab_map[31999])"
   ],
   "outputs": [
    {
     "output_type": "stream",
     "name": "stdout",
     "text": [
      "李\n",
      "贊\n"
     ]
    }
   ],
   "metadata": {}
  },
  {
   "cell_type": "code",
   "execution_count": 13,
   "source": [
    "def write_vocab(vocab_map, file_path) :\n",
    "    assert file_path.endswith('.txt')\n",
    "    data_size = len(vocab_map)\n",
    "    vocab_list = list(vocab_map.values())\n",
    "\n",
    "    f = open(file_path, 'w')\n",
    "    for i in range(data_size):\n",
    "        f.write(vocab_list[i]+'\\n')\n",
    "    f.close()"
   ],
   "outputs": [],
   "metadata": {}
  },
  {
   "cell_type": "code",
   "execution_count": 14,
   "source": [
    "write_vocab(vocab_map, vocab_path)"
   ],
   "outputs": [],
   "metadata": {}
  },
  {
   "cell_type": "markdown",
   "source": [
    "## Customize tokenizer.json "
   ],
   "metadata": {}
  },
  {
   "cell_type": "code",
   "execution_count": 15,
   "source": [
    "def load_tokenizer_json(file_path) :\n",
    "    assert file_path.endswith('.json')\n",
    "    with open(file_path, \"r\") as json_data:\n",
    "        tokenizer_data = json.load(json_data)\n",
    "    return tokenizer_data"
   ],
   "outputs": [],
   "metadata": {}
  },
  {
   "cell_type": "code",
   "execution_count": 16,
   "source": [
    "tokenizer_data = load_tokenizer_json(os.path.join('../Tokenizer', 'tokenizer.json'))"
   ],
   "outputs": [],
   "metadata": {}
  },
  {
   "cell_type": "code",
   "execution_count": 17,
   "source": [
    "print('Tokenizer Data : {}'.format(tokenizer_data.keys()))\n",
    "tokenizer_vocab_data = tokenizer_data['model']['vocab']"
   ],
   "outputs": [
    {
     "output_type": "stream",
     "name": "stdout",
     "text": [
      "Tokenizer Data : dict_keys(['version', 'truncation', 'padding', 'added_tokens', 'normalizer', 'pre_tokenizer', 'post_processor', 'decoder', 'model'])\n"
     ]
    }
   ],
   "metadata": {}
  },
  {
   "cell_type": "code",
   "execution_count": 18,
   "source": [
    "print(tokenizer_vocab_data['[unused0]'])\n",
    "print(tokenizer_vocab_data['[unused200]'])"
   ],
   "outputs": [
    {
     "output_type": "stream",
     "name": "stdout",
     "text": [
      "31500\n",
      "31700\n"
     ]
    }
   ],
   "metadata": {}
  },
  {
   "cell_type": "code",
   "execution_count": 19,
   "source": [
    "print('Tokenizr Vocab Data : {}'.format(type(tokenizer_vocab_data)))"
   ],
   "outputs": [
    {
     "output_type": "stream",
     "name": "stdout",
     "text": [
      "Tokenizr Vocab Data : <class 'dict'>\n"
     ]
    }
   ],
   "metadata": {}
  },
  {
   "cell_type": "code",
   "execution_count": 20,
   "source": [
    "def write_tokenizer_json(tokenizer_data, vocab_data, file_path) :\n",
    "    assert file_path.endswith('.json')\n",
    "    inverse_vocab_data = {vocab_data[key] : key for key in vocab_data.keys()}\n",
    "    tokenizer_data['model']['vocab'] = inverse_vocab_data\n",
    "    with open(file_path, 'w') as json_file:\n",
    "        json.dump(tokenizer_data, json_file)"
   ],
   "outputs": [],
   "metadata": {}
  },
  {
   "cell_type": "code",
   "execution_count": 21,
   "source": [
    "write_tokenizer_json(tokenizer_data, vocab_map, os.path.join('../Tokenizer', 'tokenizer.json'))"
   ],
   "outputs": [],
   "metadata": {}
  },
  {
   "cell_type": "markdown",
   "source": [
    "## Check Tokenizer Data"
   ],
   "metadata": {}
  },
  {
   "cell_type": "code",
   "execution_count": 22,
   "source": [
    "tokenizer_data = load_tokenizer_json(os.path.join('../Tokenizer', 'tokenizer.json'))"
   ],
   "outputs": [],
   "metadata": {}
  },
  {
   "cell_type": "code",
   "execution_count": 23,
   "source": [
    "sorted(tokenizer_data['model']['vocab'].items(), key=lambda x : x[1], reverse=True)[:100]"
   ],
   "outputs": [
    {
     "output_type": "execute_result",
     "data": {
      "text/plain": [
       "[('贊', 31999),\n",
       " ('依', 31998),\n",
       " ('斗', 31997),\n",
       " ('雪', 31996),\n",
       " ('妃', 31995),\n",
       " ('吏', 31994),\n",
       " ('希', 31993),\n",
       " ('蘇', 31992),\n",
       " ('雜', 31991),\n",
       " ('惱', 31990),\n",
       " ('帶', 31989),\n",
       " ('苦', 31988),\n",
       " ('啓', 31987),\n",
       " ('始', 31986),\n",
       " ('ʰ', 31985),\n",
       " ('辛', 31984),\n",
       " ('綱', 31983),\n",
       " ('題', 31982),\n",
       " ('致', 31981),\n",
       " ('岳', 31980),\n",
       " ('奇', 31979),\n",
       " ('靖', 31978),\n",
       " ('믈', 31977),\n",
       " ('獻', 31976),\n",
       " ('狀', 31975),\n",
       " ('變', 31974),\n",
       " ('ú', 31973),\n",
       " ('盛', 31972),\n",
       " ('茂', 31971),\n",
       " ('象', 31970),\n",
       " ('ω', 31969),\n",
       " ('홋', 31968),\n",
       " ('誌', 31967),\n",
       " ('و', 31966),\n",
       " ('チ', 31965),\n",
       " ('貴', 31964),\n",
       " ('植', 31963),\n",
       " ('υ', 31962),\n",
       " ('ミ', 31961),\n",
       " ('虎', 31960),\n",
       " ('슌', 31959),\n",
       " ('望', 31958),\n",
       " ('け', 31957),\n",
       " ('퓌', 31956),\n",
       " ('比', 31955),\n",
       " ('澤', 31954),\n",
       " ('テ', 31953),\n",
       " ('デ', 31952),\n",
       " ('徳', 31951),\n",
       " ('劇', 31950),\n",
       " ('乙', 31949),\n",
       " ('觸', 31948),\n",
       " ('防', 31947),\n",
       " ('ノ', 31946),\n",
       " ('サ', 31945),\n",
       " ('許', 31944),\n",
       " ('え', 31943),\n",
       " ('布', 31942),\n",
       " ('羽', 31941),\n",
       " ('鳥', 31940),\n",
       " ('ナ', 31939),\n",
       " ('淵', 31938),\n",
       " ('б', 31937),\n",
       " ('ム', 31936),\n",
       " ('县', 31935),\n",
       " ('號', 31934),\n",
       " ('訓', 31933),\n",
       " ('胡', 31932),\n",
       " ('わ', 31931),\n",
       " ('尼', 31930),\n",
       " ('ь', 31929),\n",
       " ('塔', 31928),\n",
       " ('溫', 31927),\n",
       " ('結', 31926),\n",
       " ('牛', 31925),\n",
       " ('誠', 31924),\n",
       " ('廟', 31923),\n",
       " ('切', 31922),\n",
       " ('莊', 31921),\n",
       " ('那', 31920),\n",
       " ('エ', 31919),\n",
       " ('祠', 31918),\n",
       " ('坐', 31917),\n",
       " ('助', 31916),\n",
       " ('鄕', 31915),\n",
       " ('局', 31914),\n",
       " ('仙', 31913),\n",
       " ('陰', 31912),\n",
       " ('咸', 31911),\n",
       " ('ό', 31910),\n",
       " ('廳', 31909),\n",
       " ('ά', 31908),\n",
       " ('า', 31907),\n",
       " ('藝', 31906),\n",
       " ('陸', 31905),\n",
       " ('境', 31904),\n",
       " ('交', 31903),\n",
       " ('遺', 31902),\n",
       " ('つ', 31901),\n",
       " ('役', 31900)]"
      ]
     },
     "metadata": {},
     "execution_count": 23
    }
   ],
   "metadata": {}
  },
  {
   "cell_type": "markdown",
   "source": [
    "## Check Result"
   ],
   "metadata": {}
  },
  {
   "cell_type": "code",
   "execution_count": 24,
   "source": [
    "tokenizer_custom = AutoTokenizer.from_pretrained(\n",
    "    '../Tokenizer',\n",
    "    use_fast=True\n",
    ")"
   ],
   "outputs": [],
   "metadata": {}
  },
  {
   "cell_type": "code",
   "execution_count": 25,
   "source": [
    "print('Size of Tokenizer : %d' %len(tokenizer_custom))\n",
    "tokenizer_custom"
   ],
   "outputs": [
    {
     "output_type": "stream",
     "name": "stdout",
     "text": [
      "Size of Tokenizer : 32000\n"
     ]
    },
    {
     "output_type": "execute_result",
     "data": {
      "text/plain": [
       "PreTrainedTokenizerFast(name_or_path='../Tokenizer', vocab_size=32000, model_max_len=512, is_fast=True, padding_side='right', special_tokens={'unk_token': '[UNK]', 'sep_token': '[SEP]', 'pad_token': '[PAD]', 'cls_token': '[CLS]', 'mask_token': '[MASK]'})"
      ]
     },
     "metadata": {},
     "execution_count": 25
    }
   ],
   "metadata": {}
  },
  {
   "cell_type": "code",
   "execution_count": 26,
   "source": [
    "print(tokenizer_custom.convert_ids_to_tokens(31500))\n",
    "print(tokenizer_custom.convert_ids_to_tokens(31999))"
   ],
   "outputs": [
    {
     "output_type": "stream",
     "name": "stdout",
     "text": [
      "李\n",
      "贊\n"
     ]
    }
   ],
   "metadata": {}
  }
 ],
 "metadata": {
  "orig_nbformat": 4,
  "language_info": {
   "name": "python",
   "version": "3.8.5",
   "mimetype": "text/x-python",
   "codemirror_mode": {
    "name": "ipython",
    "version": 3
   },
   "pygments_lexer": "ipython3",
   "nbconvert_exporter": "python",
   "file_extension": ".py"
  },
  "kernelspec": {
   "name": "python3",
   "display_name": "Python 3.8.5 64-bit ('base': conda)"
  },
  "interpreter": {
   "hash": "98b0a9b7b4eaaa670588a142fd0a9b87eaafe866f1db4228be72b4211d12040f"
  }
 },
 "nbformat": 4,
 "nbformat_minor": 2
}