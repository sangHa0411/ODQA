{
 "cells": [
  {
   "cell_type": "code",
   "execution_count": 18,
   "source": [
    "import os\n",
    "import json\n",
    "import re\n",
    "import pandas as pd\n",
    "from tqdm.notebook import tqdm\n",
    "import collections"
   ],
   "outputs": [],
   "metadata": {}
  },
  {
   "cell_type": "markdown",
   "source": [
    "## Tokenizer"
   ],
   "metadata": {}
  },
  {
   "cell_type": "code",
   "execution_count": 2,
   "source": [
    "from transformers import BertTokenizer"
   ],
   "outputs": [],
   "metadata": {}
  },
  {
   "cell_type": "code",
   "execution_count": 3,
   "source": [
    "tokenizer = BertTokenizer.from_pretrained(\n",
    "    'klue/bert-base',\n",
    ")"
   ],
   "outputs": [
    {
     "output_type": "stream",
     "name": "stderr",
     "text": [
      "/opt/conda/lib/python3.8/site-packages/transformers/configuration_utils.py:336: UserWarning: Passing `gradient_checkpointing` to a config initialization is deprecated and will be removed in v5 Transformers. Using `model.gradient_checkpointing_enable()` instead, or if you are using the `Trainer` API, pass `gradient_checkpointing=True` in your `TrainingArguments`.\n",
      "  warnings.warn(\n"
     ]
    }
   ],
   "metadata": {}
  },
  {
   "cell_type": "code",
   "execution_count": 4,
   "source": [
    "tokenizer"
   ],
   "outputs": [
    {
     "output_type": "execute_result",
     "data": {
      "text/plain": [
       "PreTrainedTokenizer(name_or_path='klue/bert-base', vocab_size=32000, model_max_len=512, is_fast=False, padding_side='right', special_tokens={'unk_token': '[UNK]', 'sep_token': '[SEP]', 'pad_token': '[PAD]', 'cls_token': '[CLS]', 'mask_token': '[MASK]'})"
      ]
     },
     "metadata": {},
     "execution_count": 4
    }
   ],
   "metadata": {}
  },
  {
   "cell_type": "code",
   "execution_count": 5,
   "source": [
    "len(tokenizer)"
   ],
   "outputs": [
    {
     "output_type": "execute_result",
     "data": {
      "text/plain": [
       "32000"
      ]
     },
     "metadata": {},
     "execution_count": 5
    }
   ],
   "metadata": {}
  },
  {
   "cell_type": "code",
   "execution_count": 6,
   "source": [
    "!rm -rf ../Tokenizer/*.txt ../Tokenizer/*.json\n",
    "tokenizer.save_pretrained('../Tokenizer')"
   ],
   "outputs": [
    {
     "output_type": "execute_result",
     "data": {
      "text/plain": [
       "('../Tokenizer/tokenizer_config.json',\n",
       " '../Tokenizer/special_tokens_map.json',\n",
       " '../Tokenizer/vocab.txt',\n",
       " '../Tokenizer/added_tokens.json')"
      ]
     },
     "metadata": {},
     "execution_count": 6
    }
   ],
   "metadata": {}
  },
  {
   "cell_type": "markdown",
   "source": [
    "## Customize vocab.txt "
   ],
   "metadata": {}
  },
  {
   "cell_type": "code",
   "execution_count": 7,
   "source": [
    "def load_vocab(dir_path, file_name) :\n",
    "    assert file_name.endswith('.txt')\n",
    "    vocab_map = {}\n",
    "    idx = 0\n",
    "    file_path = os.path.join(dir_path, file_name)\n",
    "\n",
    "    f = open(file_path, 'r')\n",
    "    while True:\n",
    "        line = f.readline()\n",
    "        if not line: \n",
    "            break\n",
    "        vocab = line[:-1]\n",
    "        vocab_map[idx] = vocab\n",
    "        idx += 1\n",
    "\n",
    "    f.close()\n",
    "\n",
    "    return vocab_map\n"
   ],
   "outputs": [],
   "metadata": {}
  },
  {
   "cell_type": "code",
   "execution_count": 8,
   "source": [
    "vocab_map = load_vocab('../Tokenizer', 'vocab.txt')"
   ],
   "outputs": [],
   "metadata": {}
  },
  {
   "cell_type": "code",
   "execution_count": 9,
   "source": [
    "print(vocab_map[31500])\n",
    "print(vocab_map[31999])"
   ],
   "outputs": [
    {
     "output_type": "stream",
     "name": "stdout",
     "text": [
      "[unused0]\n",
      "[unused499]\n"
     ]
    }
   ],
   "metadata": {}
  },
  {
   "cell_type": "code",
   "execution_count": 10,
   "source": [
    "def add_unused(vocab_map, tokenizer, unk_chacters) :\n",
    "    assert unk_chacters.endswith('.csv')\n",
    "    vocab_size = len(tokenizer)\n",
    "    unused_start = tokenizer.convert_tokens_to_ids('[unused0]')\n",
    "\n",
    "    unk_ch_df = pd.read_csv(unk_chacters)\n",
    "    unused_size = vocab_size - unused_start \n",
    "    for i in range(unused_size) :\n",
    "        unused_idx = unused_start + i\n",
    "        data = unk_ch_df.iloc[i]\n",
    "        unk_ch = data['Character']\n",
    "        vocab_map[unused_idx] = unk_ch\n"
   ],
   "outputs": [],
   "metadata": {}
  },
  {
   "cell_type": "code",
   "execution_count": 11,
   "source": [
    "add_unused(vocab_map, tokenizer, '../Tokenizer/unk_characters.csv')"
   ],
   "outputs": [],
   "metadata": {}
  },
  {
   "cell_type": "code",
   "execution_count": 12,
   "source": [
    "print(vocab_map[31500])\n",
    "print(vocab_map[31999])"
   ],
   "outputs": [
    {
     "output_type": "stream",
     "name": "stdout",
     "text": [
      "李\n",
      "贊\n"
     ]
    }
   ],
   "metadata": {}
  },
  {
   "cell_type": "code",
   "execution_count": 13,
   "source": [
    "def write_vocab_txt(vocab_map, file_path) :\n",
    "    assert file_path.endswith('.txt')\n",
    "    data_size = len(vocab_map)\n",
    "    vocab_list = list(vocab_map.values())\n",
    "\n",
    "    f = open(file_path, 'w')\n",
    "    for i in range(data_size):\n",
    "        f.write(vocab_list[i]+'\\n')\n",
    "    f.close()"
   ],
   "outputs": [],
   "metadata": {}
  },
  {
   "cell_type": "code",
   "execution_count": 14,
   "source": [
    "write_vocab_txt(vocab_map, '../Tokenizer/vocab.txt')"
   ],
   "outputs": [],
   "metadata": {}
  },
  {
   "cell_type": "markdown",
   "source": [
    "## Check Result"
   ],
   "metadata": {}
  },
  {
   "cell_type": "code",
   "execution_count": 15,
   "source": [
    "tokenizer = BertTokenizer.from_pretrained(\n",
    "    '../Tokenizer'\n",
    ")"
   ],
   "outputs": [],
   "metadata": {}
  },
  {
   "cell_type": "code",
   "execution_count": 16,
   "source": [
    "print('Size of Tokenizer : %d' %len(tokenizer))\n",
    "tokenizer"
   ],
   "outputs": [
    {
     "output_type": "stream",
     "name": "stdout",
     "text": [
      "Size of Tokenizer : 32000\n"
     ]
    },
    {
     "output_type": "execute_result",
     "data": {
      "text/plain": [
       "PreTrainedTokenizer(name_or_path='../Tokenizer', vocab_size=32000, model_max_len=512, is_fast=False, padding_side='right', special_tokens={'unk_token': '[UNK]', 'sep_token': '[SEP]', 'pad_token': '[PAD]', 'cls_token': '[CLS]', 'mask_token': '[MASK]'})"
      ]
     },
     "metadata": {},
     "execution_count": 16
    }
   ],
   "metadata": {}
  },
  {
   "cell_type": "code",
   "execution_count": 17,
   "source": [
    "print(tokenizer.convert_ids_to_tokens(31500))\n",
    "print(tokenizer.convert_ids_to_tokens(31999))"
   ],
   "outputs": [
    {
     "output_type": "stream",
     "name": "stdout",
     "text": [
      "李\n",
      "贊\n"
     ]
    }
   ],
   "metadata": {}
  }
 ],
 "metadata": {
  "orig_nbformat": 4,
  "language_info": {
   "name": "python",
   "version": "3.8.5",
   "mimetype": "text/x-python",
   "codemirror_mode": {
    "name": "ipython",
    "version": 3
   },
   "pygments_lexer": "ipython3",
   "nbconvert_exporter": "python",
   "file_extension": ".py"
  },
  "kernelspec": {
   "name": "python3",
   "display_name": "Python 3.8.5 64-bit ('base': conda)"
  },
  "interpreter": {
   "hash": "98b0a9b7b4eaaa670588a142fd0a9b87eaafe866f1db4228be72b4211d12040f"
  }
 },
 "nbformat": 4,
 "nbformat_minor": 2
}